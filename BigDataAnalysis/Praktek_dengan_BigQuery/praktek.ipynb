{
 "cells": [
  {
   "cell_type": "code",
   "execution_count": 35,
   "metadata": {},
   "outputs": [],
   "source": [
    "from google.cloud import bigquery\n",
    "from google.oauth2 import service_account\n",
    "import pandas as pd\n",
    "import os\n",
    "from google.cloud import bigquery\n",
    "import matplotlib.pyplot as plt\n",
    "import seaborn as sns\n",
    "import pandas as pd\n",
    "import numpy as np"
   ]
  },
  {
   "cell_type": "code",
   "execution_count": 36,
   "metadata": {},
   "outputs": [
    {
     "data": {
      "text/plain": [
       "'.ipynb_checkpoints\\\\bda-analisis-4f21456527de.json'"
      ]
     },
     "execution_count": 36,
     "metadata": {},
     "output_type": "execute_result"
    }
   ],
   "source": [
    "source = r'E:\\bda\\BigDataAnalysis\\Praktek_dengan_BigQuery\\bda-analisis-4f21456527de.json'\n",
    "destination = \".ipynb_checkpoints/\"\n",
    "\n",
    "source = os.path.normpath(source)\n",
    "destination = os.path.normpath(destination)\n",
    "\n",
    "shutil.copy(source, destination)"
   ]
  },
  {
   "cell_type": "code",
   "execution_count": 37,
   "metadata": {},
   "outputs": [
    {
     "data": {
      "text/plain": [
       "'.ipynb_checkpoints\\\\data_credit.csv'"
      ]
     },
     "execution_count": 37,
     "metadata": {},
     "output_type": "execute_result"
    }
   ],
   "source": [
    "source = r'E:\\bda\\BigDataAnalysis\\Praktek_dengan_BigQuery\\data_credit.csv'\n",
    "destination = \".ipynb_checkpoints/\"\n",
    "\n",
    "source = os.path.normpath(source)\n",
    "destination = os.path.normpath(destination)\n",
    "\n",
    "shutil.copy(source, destination)\n"
   ]
  },
  {
   "cell_type": "code",
   "execution_count": 38,
   "metadata": {},
   "outputs": [],
   "source": [
    "kunci = 'bda-analisis-4f21456527de.json'\n",
    "credentials = service_account.Credentials.from_service_account_file(kunci)\n",
    "client = bigquery.Client(credentials=credentials, project=credentials.project_id)"
   ]
  },
  {
   "cell_type": "code",
   "execution_count": 39,
   "metadata": {},
   "outputs": [
    {
     "name": "stdout",
     "output_type": "stream",
     "text": [
      "Requirement already satisfied: db-dtypes in e:\\bda\\bigdataanalysis\\lib\\site-packages (1.3.0)\n",
      "Requirement already satisfied: packaging>=17.0 in e:\\bda\\bigdataanalysis\\lib\\site-packages (from db-dtypes) (24.1)\n",
      "Requirement already satisfied: pandas>=0.24.2 in e:\\bda\\bigdataanalysis\\lib\\site-packages (from db-dtypes) (2.2.2)\n",
      "Requirement already satisfied: pyarrow>=3.0.0 in e:\\bda\\bigdataanalysis\\lib\\site-packages (from db-dtypes) (17.0.0)\n",
      "Requirement already satisfied: numpy>=1.16.6 in e:\\bda\\bigdataanalysis\\lib\\site-packages (from db-dtypes) (2.1.1)\n",
      "Requirement already satisfied: python-dateutil>=2.8.2 in e:\\bda\\bigdataanalysis\\lib\\site-packages (from pandas>=0.24.2->db-dtypes) (2.9.0.post0)\n",
      "Requirement already satisfied: pytz>=2020.1 in e:\\bda\\bigdataanalysis\\lib\\site-packages (from pandas>=0.24.2->db-dtypes) (2024.2)\n",
      "Requirement already satisfied: tzdata>=2022.7 in e:\\bda\\bigdataanalysis\\lib\\site-packages (from pandas>=0.24.2->db-dtypes) (2024.1)\n",
      "Requirement already satisfied: six>=1.5 in e:\\bda\\bigdataanalysis\\lib\\site-packages (from python-dateutil>=2.8.2->pandas>=0.24.2->db-dtypes) (1.16.0)\n",
      "Note: you may need to restart the kernel to use updated packages.\n"
     ]
    }
   ],
   "source": [
    "pip install db-dtypes"
   ]
  },
  {
   "cell_type": "code",
   "execution_count": 24,
   "metadata": {},
   "outputs": [],
   "source": [
    "import pandas as pd\n",
    "from google.oauth2 import service_account\n",
    "from google.cloud import bigquery\n",
    "\n",
    "kunci = 'bda-analisis-4f21456527de.json'\n",
    "credentials = service_account.Credentials.from_service_account_file(kunci)\n",
    "client = bigquery.Client(credentials=credentials, project=credentials.project_id)\n",
    "\n",
    "query = \"\"\"SELECT * FROM bigquery-public-data.ml_datasets.credit_card_default LIMIT 2000\"\"\"\n",
    "job = client.query(query)\n",
    "results = job.result()\n",
    "\n",
    "rows = list(results)\n",
    "df = pd.DataFrame(rows)"
   ]
  },
  {
   "cell_type": "code",
   "execution_count": 25,
   "metadata": {},
   "outputs": [
    {
     "data": {
      "text/html": [
       "<div>\n",
       "<style scoped>\n",
       "    .dataframe tbody tr th:only-of-type {\n",
       "        vertical-align: middle;\n",
       "    }\n",
       "\n",
       "    .dataframe tbody tr th {\n",
       "        vertical-align: top;\n",
       "    }\n",
       "\n",
       "    .dataframe thead th {\n",
       "        text-align: right;\n",
       "    }\n",
       "</style>\n",
       "<table border=\"1\" class=\"dataframe\">\n",
       "  <thead>\n",
       "    <tr style=\"text-align: right;\">\n",
       "      <th></th>\n",
       "      <th>0</th>\n",
       "    </tr>\n",
       "  </thead>\n",
       "  <tbody>\n",
       "    <tr>\n",
       "      <th>0</th>\n",
       "      <td>(27502.0, 80000.0, 1, 6, 1, 54.0, 0.0, 0.0, 0....</td>\n",
       "    </tr>\n",
       "    <tr>\n",
       "      <th>1</th>\n",
       "      <td>(26879.0, 200000.0, 1, 4, 1, 49.0, 0.0, 0.0, 0...</td>\n",
       "    </tr>\n",
       "    <tr>\n",
       "      <th>2</th>\n",
       "      <td>(18340.0, 20000.0, 2, 6, 2, 22.0, 0.0, 0.0, 0....</td>\n",
       "    </tr>\n",
       "    <tr>\n",
       "      <th>3</th>\n",
       "      <td>(13692.0, 260000.0, 2, 4, 2, 33.0, 0.0, 0.0, 0...</td>\n",
       "    </tr>\n",
       "    <tr>\n",
       "      <th>4</th>\n",
       "      <td>(20405.0, 150000.0, 1, 4, 2, 32.0, 0.0, 0.0, 0...</td>\n",
       "    </tr>\n",
       "    <tr>\n",
       "      <th>...</th>\n",
       "      <td>...</td>\n",
       "    </tr>\n",
       "    <tr>\n",
       "      <th>1995</th>\n",
       "      <td>(22585.0, 180000.0, 2, 3, 1, 39.0, 1.0, -2.0, ...</td>\n",
       "    </tr>\n",
       "    <tr>\n",
       "      <th>1996</th>\n",
       "      <td>(21812.0, 20000.0, 2, 2, 2, 24.0, 3.0, 2.0, 3....</td>\n",
       "    </tr>\n",
       "    <tr>\n",
       "      <th>1997</th>\n",
       "      <td>(4007.0, 10000.0, 1, 3, 2, 46.0, 2.0, 2.0, 3.0...</td>\n",
       "    </tr>\n",
       "    <tr>\n",
       "      <th>1998</th>\n",
       "      <td>(8773.0, 220000.0, 2, 1, 1, 41.0, 7.0, 6.0, 5....</td>\n",
       "    </tr>\n",
       "    <tr>\n",
       "      <th>1999</th>\n",
       "      <td>(12967.0, 400000.0, 1, 2, 1, 40.0, 7.0, 6.0, 5...</td>\n",
       "    </tr>\n",
       "  </tbody>\n",
       "</table>\n",
       "<p>2000 rows × 1 columns</p>\n",
       "</div>"
      ],
      "text/plain": [
       "                                                      0\n",
       "0     (27502.0, 80000.0, 1, 6, 1, 54.0, 0.0, 0.0, 0....\n",
       "1     (26879.0, 200000.0, 1, 4, 1, 49.0, 0.0, 0.0, 0...\n",
       "2     (18340.0, 20000.0, 2, 6, 2, 22.0, 0.0, 0.0, 0....\n",
       "3     (13692.0, 260000.0, 2, 4, 2, 33.0, 0.0, 0.0, 0...\n",
       "4     (20405.0, 150000.0, 1, 4, 2, 32.0, 0.0, 0.0, 0...\n",
       "...                                                 ...\n",
       "1995  (22585.0, 180000.0, 2, 3, 1, 39.0, 1.0, -2.0, ...\n",
       "1996  (21812.0, 20000.0, 2, 2, 2, 24.0, 3.0, 2.0, 3....\n",
       "1997  (4007.0, 10000.0, 1, 3, 2, 46.0, 2.0, 2.0, 3.0...\n",
       "1998  (8773.0, 220000.0, 2, 1, 1, 41.0, 7.0, 6.0, 5....\n",
       "1999  (12967.0, 400000.0, 1, 2, 1, 40.0, 7.0, 6.0, 5...\n",
       "\n",
       "[2000 rows x 1 columns]"
      ]
     },
     "execution_count": 25,
     "metadata": {},
     "output_type": "execute_result"
    }
   ],
   "source": [
    "df\n"
   ]
  },
  {
   "cell_type": "code",
   "execution_count": 26,
   "metadata": {},
   "outputs": [
    {
     "name": "stdout",
     "output_type": "stream",
     "text": [
      "<bound method DataFrame.info of                                                       0\n",
      "0     (27502.0, 80000.0, 1, 6, 1, 54.0, 0.0, 0.0, 0....\n",
      "1     (26879.0, 200000.0, 1, 4, 1, 49.0, 0.0, 0.0, 0...\n",
      "2     (18340.0, 20000.0, 2, 6, 2, 22.0, 0.0, 0.0, 0....\n",
      "3     (13692.0, 260000.0, 2, 4, 2, 33.0, 0.0, 0.0, 0...\n",
      "4     (20405.0, 150000.0, 1, 4, 2, 32.0, 0.0, 0.0, 0...\n",
      "...                                                 ...\n",
      "1995  (22585.0, 180000.0, 2, 3, 1, 39.0, 1.0, -2.0, ...\n",
      "1996  (21812.0, 20000.0, 2, 2, 2, 24.0, 3.0, 2.0, 3....\n",
      "1997  (4007.0, 10000.0, 1, 3, 2, 46.0, 2.0, 2.0, 3.0...\n",
      "1998  (8773.0, 220000.0, 2, 1, 1, 41.0, 7.0, 6.0, 5....\n",
      "1999  (12967.0, 400000.0, 1, 2, 1, 40.0, 7.0, 6.0, 5...\n",
      "\n",
      "[2000 rows x 1 columns]>\n"
     ]
    }
   ],
   "source": [
    "print((df.info))"
   ]
  },
  {
   "cell_type": "code",
   "execution_count": 27,
   "metadata": {},
   "outputs": [],
   "source": [
    "import pandas as pd\n",
    "import matplotlib.pyplot as plt\n",
    "from sklearn.model_selection import train_test_split\n",
    "from sklearn.ensemble import RandomForestClassifier, GradientBoostingClassifier\n",
    "from sklearn.linear_model import LogisticRegression\n",
    "from sklearn.naive_bayes import GaussianNB\n",
    "from sklearn.svm import SVC\n",
    "from sklearn.neighbors import KNeighborsClassifier\n",
    "from sklearn.metrics import  accuracy_score"
   ]
  },
  {
   "cell_type": "code",
   "execution_count": 28,
   "metadata": {},
   "outputs": [
    {
     "ename": "NameError",
     "evalue": "name 'accuracy_df' is not defined",
     "output_type": "error",
     "traceback": [
      "\u001b[1;31m---------------------------------------------------------------------------\u001b[0m",
      "\u001b[1;31mNameError\u001b[0m                                 Traceback (most recent call last)",
      "Cell \u001b[1;32mIn[28], line 3\u001b[0m\n\u001b[0;32m      1\u001b[0m \u001b[38;5;66;03m# Membuat grafik perbandingan akurasi\u001b[39;00m\n\u001b[0;32m      2\u001b[0m plt\u001b[38;5;241m.\u001b[39mfigure(figsize\u001b[38;5;241m=\u001b[39m(\u001b[38;5;241m10\u001b[39m, \u001b[38;5;241m6\u001b[39m))\n\u001b[1;32m----> 3\u001b[0m plt\u001b[38;5;241m.\u001b[39mbar(\u001b[43maccuracy_df\u001b[49m[\u001b[38;5;124m'\u001b[39m\u001b[38;5;124mModel\u001b[39m\u001b[38;5;124m'\u001b[39m], accuracy_df[\u001b[38;5;124m'\u001b[39m\u001b[38;5;124mAccuracy\u001b[39m\u001b[38;5;124m'\u001b[39m], color\u001b[38;5;241m=\u001b[39m[\u001b[38;5;124m'\u001b[39m\u001b[38;5;124mblue\u001b[39m\u001b[38;5;124m'\u001b[39m, \u001b[38;5;124m'\u001b[39m\u001b[38;5;124mgreen\u001b[39m\u001b[38;5;124m'\u001b[39m, \u001b[38;5;124m'\u001b[39m\u001b[38;5;124mred\u001b[39m\u001b[38;5;124m'\u001b[39m, \u001b[38;5;124m'\u001b[39m\u001b[38;5;124mpurple\u001b[39m\u001b[38;5;124m'\u001b[39m, \u001b[38;5;124m'\u001b[39m\u001b[38;5;124morange\u001b[39m\u001b[38;5;124m'\u001b[39m, \u001b[38;5;124m'\u001b[39m\u001b[38;5;124mcyan\u001b[39m\u001b[38;5;124m'\u001b[39m])\n\u001b[0;32m      4\u001b[0m plt\u001b[38;5;241m.\u001b[39mxlabel(\u001b[38;5;124m'\u001b[39m\u001b[38;5;124mModel\u001b[39m\u001b[38;5;124m'\u001b[39m)\n\u001b[0;32m      5\u001b[0m plt\u001b[38;5;241m.\u001b[39mylabel(\u001b[38;5;124m'\u001b[39m\u001b[38;5;124mAccuracy\u001b[39m\u001b[38;5;124m'\u001b[39m)\n",
      "\u001b[1;31mNameError\u001b[0m: name 'accuracy_df' is not defined"
     ]
    },
    {
     "data": {
      "text/plain": [
       "<Figure size 1000x600 with 0 Axes>"
      ]
     },
     "metadata": {},
     "output_type": "display_data"
    }
   ],
   "source": [
    "# Membuat grafik perbandingan akurasi\n",
    "plt.figure(figsize=(10, 6))\n",
    "plt.bar(accuracy_df['Model'], accuracy_df['Accuracy'], color=['blue', 'green', 'red', 'purple', 'orange', 'cyan'])\n",
    "plt.xlabel('Model')\n",
    "plt.ylabel('Accuracy')\n",
    "plt.title('Comparison of Model Accuracies')\n",
    "plt.ylim(0, 1)\n",
    "for index, value in enumerate(accuracy_df['Accuracy']):\n",
    "    plt.text(index, value, f'{value:.2f}', ha='center', va='bottom')\n",
    "plt.show()"
   ]
  }
 ],
 "metadata": {
  "kernelspec": {
   "display_name": "BigDataAnalysis",
   "language": "python",
   "name": "python3"
  },
  "language_info": {
   "codemirror_mode": {
    "name": "ipython",
    "version": 3
   },
   "file_extension": ".py",
   "mimetype": "text/x-python",
   "name": "python",
   "nbconvert_exporter": "python",
   "pygments_lexer": "ipython3",
   "version": "3.12.5"
  }
 },
 "nbformat": 4,
 "nbformat_minor": 4
}
