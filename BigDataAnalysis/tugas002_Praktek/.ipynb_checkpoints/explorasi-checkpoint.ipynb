{
 "cells": [
  {
   "cell_type": "code",
   "execution_count": 10,
   "metadata": {},
   "outputs": [],
   "source": [
    "#library\n",
    "import numpy as np\n",
    "import pandas as pd\n",
    "import matplotlib.pyplot as plt"
   ]
  },
  {
   "cell_type": "code",
   "execution_count": 13,
   "metadata": {},
   "outputs": [],
   "source": [
    "#fungsi pandas untuk membaca file csv atau excel\n",
    "# df = pd.read_csv('.csv')\n",
    "df = pd.read_excel('bda_test.xlsx')"
   ]
  },
  {
   "cell_type": "code",
   "execution_count": 14,
   "metadata": {},
   "outputs": [
    {
     "name": "stdout",
     "output_type": "stream",
     "text": [
      "   No   Nama                  Menu yang dikuasai  Lama Pengerjaan (Menit)\n",
      "0   1   Andi        ayam betutu, es teh, es krim                       16\n",
      "1   2    Lia        ayam betutu, es teh, es krim                       14\n",
      "2   3   Toni   rendang, nasi putih, es teh manis                       22\n",
      "3   4   Andi        ayam betutu, es teh, es krim                       18\n",
      "4   5  Yosia  nasi goreng, telur dadar, es jeruk                       18\n"
     ]
    }
   ],
   "source": [
    "#untuk menampilkan 5 baris pertama\n",
    "print(df.head())"
   ]
  },
  {
   "cell_type": "code",
   "execution_count": 31,
   "metadata": {},
   "outputs": [
    {
     "name": "stdout",
     "output_type": "stream",
     "text": [
      "       No   Nama                  Menu yang dikuasai  Lama Pengerjaan (Menit)\n",
      "0       1   Andi        ayam betutu, es teh, es krim                       16\n",
      "1       2    Lia        ayam betutu, es teh, es krim                       14\n",
      "2       3   Toni   rendang, nasi putih, es teh manis                       22\n",
      "3       4   Andi        ayam betutu, es teh, es krim                       18\n",
      "4       5  Yosia  nasi goreng, telur dadar, es jeruk                       18\n",
      "..    ...    ...                                 ...                      ...\n",
      "995   996   Andi   rendang, nasi putih, es teh manis                       22\n",
      "996   997  Yosia   ikan bakar, sayur asem, es campur                       22\n",
      "997   998   Dewi   sop buntut, nasi putih, jus jambu                       15\n",
      "998   999   Budi  nasi goreng, telur dadar, es jeruk                       20\n",
      "999  1000   Rina  kerang balado, telur dadar, es teh                       18\n",
      "\n",
      "[1000 rows x 4 columns]\n"
     ]
    }
   ],
   "source": [
    "data = pd.read_csv('bda_test.csv')\n",
    "print(data)"
   ]
  },
  {
   "cell_type": "code",
   "execution_count": 17,
   "metadata": {},
   "outputs": [
    {
     "name": "stdout",
     "output_type": "stream",
     "text": [
      "Data telah berhasil diubah menjadi CSV!\n"
     ]
    }
   ],
   "source": [
    "# Baca file Excel\n",
    "df = pd.read_excel('bda_test.xlsx')\n",
    "\n",
    "# Simpan sebagai CSV\n",
    "df.to_csv('bda_test.csv', index=False)\n",
    "\n",
    "print(\"Data telah berhasil diubah menjadi CSV!\")\n"
   ]
  },
  {
   "cell_type": "code",
   "execution_count": 29,
   "metadata": {},
   "outputs": [
    {
     "name": "stdout",
     "output_type": "stream",
     "text": [
      "Index(['No', 'Nama', 'Menu yang dikuasai', 'Lama Pengerjaan (Menit)'], dtype='object')\n"
     ]
    }
   ],
   "source": [
    "# Check nama kolom\n",
    "print(df.columns)  # Verifikasi nama kolom"
   ]
  },
  {
   "cell_type": "code",
   "execution_count": 7,
   "metadata": {},
   "outputs": [
    {
     "name": "stdout",
     "output_type": "stream",
     "text": [
      "   No   Nama                  Menu yang dikuasai  Lama Pengerjaan (Menit)\n",
      "0   1   Andi        ayam betutu, es teh, es krim                       16\n",
      "1   2    Lia        ayam betutu, es teh, es krim                       14\n",
      "2   3   Toni   rendang, nasi putih, es teh manis                       22\n",
      "3   4   Andi        ayam betutu, es teh, es krim                       18\n",
      "4   5  Yosia  nasi goreng, telur dadar, es jeruk                       18\n"
     ]
    }
   ],
   "source": [
    "import pandas as pd\n",
    "data = pd.read_csv(\"bda_test.csv\")\n",
    "\n",
    "# Menyalin data ke DataFrame df\n",
    "df = data.copy()\n",
    "\n",
    "# Menghapus baris dengan nilai yang hilang\n",
    "df.dropna(inplace=True)\n",
    "\n",
    "# Sekarang Anda bisa menggunakan DataFrame df untuk analisis lebih lanjut\n",
    "print(df.head())"
   ]
  },
  {
   "cell_type": "code",
   "execution_count": 20,
   "metadata": {},
   "outputs": [
    {
     "name": "stdout",
     "output_type": "stream",
     "text": [
      "   No   Nama                  Menu yang dikuasai  Lama Pengerjaan (Menit)\n",
      "0   1   Andi        ayam betutu, es teh, es krim                       16\n",
      "1   2    Lia        ayam betutu, es teh, es krim                       14\n",
      "2   3   Toni   rendang, nasi putih, es teh manis                       22\n",
      "3   4   Andi        ayam betutu, es teh, es krim                       18\n",
      "4   5  Yosia  nasi goreng, telur dadar, es jeruk                       18\n"
     ]
    }
   ],
   "source": [
    "print(df.head())  # Melihat 5 baris pertama"
   ]
  },
  {
   "cell_type": "code",
   "execution_count": 21,
   "metadata": {},
   "outputs": [
    {
     "name": "stdout",
     "output_type": "stream",
     "text": [
      "       No   Nama                  Menu yang dikuasai  Lama Pengerjaan (Menit)\n",
      "995   996   Andi   rendang, nasi putih, es teh manis                       22\n",
      "996   997  Yosia   ikan bakar, sayur asem, es campur                       22\n",
      "997   998   Dewi   sop buntut, nasi putih, jus jambu                       15\n",
      "998   999   Budi  nasi goreng, telur dadar, es jeruk                       20\n",
      "999  1000   Rina  kerang balado, telur dadar, es teh                       18\n"
     ]
    }
   ],
   "source": [
    "print(df.tail())  #Melihat 5 baris terakhir"
   ]
  },
  {
   "cell_type": "code",
   "execution_count": 22,
   "metadata": {},
   "outputs": [
    {
     "name": "stdout",
     "output_type": "stream",
     "text": [
      "<class 'pandas.core.frame.DataFrame'>\n",
      "RangeIndex: 1000 entries, 0 to 999\n",
      "Data columns (total 4 columns):\n",
      " #   Column                   Non-Null Count  Dtype \n",
      "---  ------                   --------------  ----- \n",
      " 0   No                       1000 non-null   int64 \n",
      " 1   Nama                     1000 non-null   object\n",
      " 2   Menu yang dikuasai       1000 non-null   object\n",
      " 3   Lama Pengerjaan (Menit)  1000 non-null   int64 \n",
      "dtypes: int64(2), object(2)\n",
      "memory usage: 31.4+ KB\n",
      "None\n"
     ]
    }
   ],
   "source": [
    "print(df.info())  # Melihat informasi umum tentang DataFrame"
   ]
  },
  {
   "cell_type": "code",
   "execution_count": 23,
   "metadata": {},
   "outputs": [
    {
     "name": "stdout",
     "output_type": "stream",
     "text": [
      "                No  Lama Pengerjaan (Menit)\n",
      "count  1000.000000              1000.000000\n",
      "mean    500.500000                15.546000\n",
      "std     288.819436                 3.731998\n",
      "min       1.000000                10.000000\n",
      "25%     250.750000                12.000000\n",
      "50%     500.500000                15.000000\n",
      "75%     750.250000                18.000000\n",
      "max    1000.000000                22.000000\n"
     ]
    }
   ],
   "source": [
    "print(df.describe())  # Melihat statistik deskriptif numerik"
   ]
  },
  {
   "cell_type": "code",
   "execution_count": 24,
   "metadata": {},
   "outputs": [
    {
     "data": {
      "image/png": "[encoded data removed]",
      "text/plain": [
       "<Figure size 640x480 with 1 Axes>"
      ]
     },
     "metadata": {},
     "output_type": "display_data"
    }
   ],
   "source": [
    "# data sudah dibaca ke dalam DataFrame bernama 'df'\n",
    "plt.hist(df['Lama Pengerjaan (Menit)'], bins=20)\n",
    "plt.xlabel('Lama Pengerjaan (Menit)')\n",
    "plt.ylabel('Frekuensi')\n",
    "plt.title('Distribusi Lama Pengerjaan')\n",
    "plt.show()"
   ]
  },
  {
   "cell_type": "code",
   "execution_count": 25,
   "metadata": {},
   "outputs": [
    {
     "data": {
      "image/png": "[encoded data removed]",
      "text/plain": [
       "<Figure size 640x480 with 1 Axes>"
      ]
     },
     "metadata": {},
     "output_type": "display_data"
    }
   ],
   "source": [
    "# Analisis berdasarkan nama pekerja (contoh)\n",
    "df.groupby('Nama')['Lama Pengerjaan (Menit)'].mean().plot(kind='bar')\n",
    "plt.title('Rata-rata Waktu Pengerjaan per Pekerja')\n",
    "plt.ylabel('Waktu (menit)')\n",
    "plt.xlabel('Nama Pekerja')\n",
    "plt.show()\n"
   ]
  }
 ],
 "metadata": {
  "kernelspec": {
   "display_name": "BigDataAnalysis",
   "language": "python",
   "name": "python3"
  },
  "language_info": {
   "codemirror_mode": {
    "name": "ipython",
    "version": 3
   },
   "file_extension": ".py",
   "mimetype": "text/x-python",
   "name": "python",
   "nbconvert_exporter": "python",
   "pygments_lexer": "ipython3",
   "version": "3.12.5"
  }
 },
 "nbformat": 4,
 "nbformat_minor": 2
}
