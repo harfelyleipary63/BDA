{
 "cells": [
  {
   "cell_type": "code",
   "execution_count": 1,
   "metadata": {},
   "outputs": [],
   "source": [
    "import bs4\n",
    "from urllib.request import urlopen as uReq \n",
    "from bs4 import BeautifulSoup as soup "
   ]
  },
  {
   "cell_type": "code",
   "execution_count": 3,
   "metadata": {},
   "outputs": [
    {
     "data": {
      "text/plain": [
       "'https://www.goodreads.com/list/show/83612.NY_Times_Fiction_Best_Sellers_2015'"
      ]
     },
     "execution_count": 3,
     "metadata": {},
     "output_type": "execute_result"
    }
   ],
   "source": [
    "my_url = 'https://www.goodreads.com/list/show/83612.NY_Times_Fiction_Best_Sellers_2015'\n",
    "my_url"
   ]
  },
  {
   "cell_type": "code",
   "execution_count": 4,
   "metadata": {},
   "outputs": [],
   "source": [
    "uClient = uReq(my_url)\n",
    "page_html = uClient.read()\n",
    "uClient.close()"
   ]
  },
  {
   "cell_type": "code",
   "execution_count": 6,
   "metadata": {},
   "outputs": [],
   "source": [
    "page_soup = soup(page_html, \"html.parser\")"
   ]
  },
  {
   "cell_type": "code",
   "execution_count": 7,
   "metadata": {},
   "outputs": [
    {
     "data": {
      "text/plain": [
       "<h1 class=\"gr-h1 gr-h1--serif\">NY Times Fiction Best Sellers 2015\n",
       "  </h1>"
      ]
     },
     "execution_count": 7,
     "metadata": {},
     "output_type": "execute_result"
    }
   ],
   "source": [
    "page_soup.h1"
   ]
  },
  {
   "cell_type": "code",
   "execution_count": 8,
   "metadata": {},
   "outputs": [],
   "source": [
    "tds = page_soup.findAll(\"td\", {\"width\":\"100%\",\"valign\":\"top\"})"
   ]
  },
  {
   "cell_type": "code",
   "execution_count": 9,
   "metadata": {},
   "outputs": [
    {
     "data": {
      "text/plain": [
       "100"
      ]
     },
     "execution_count": 9,
     "metadata": {},
     "output_type": "execute_result"
    }
   ],
   "source": [
    "len(tds)"
   ]
  },
  {
   "cell_type": "code",
   "execution_count": 10,
   "metadata": {},
   "outputs": [
    {
     "data": {
      "text/plain": [
       "<td valign=\"top\" width=\"100%\">\n",
       "<a class=\"bookTitle\" href=\"/book/show/18143977-all-the-light-we-cannot-see\" itemprop=\"url\">\n",
       "<span aria-level=\"4\" itemprop=\"name\" role=\"heading\">All the Light We Cannot See</span>\n",
       "</a> <br>\n",
       "<span class=\"by\">by</span>\n",
       "<span itemprop=\"author\" itemscope=\"\" itemtype=\"http://schema.org/Person\">\n",
       "<div class=\"authorName__container\">\n",
       "<a class=\"authorName\" href=\"https://www.goodreads.com/author/show/28186.Anthony_Doerr\" itemprop=\"url\"><span itemprop=\"name\">Anthony Doerr</span></a> <span class=\"greyText\">(Goodreads Author)</span>\n",
       "</div>\n",
       "</span>\n",
       "<br/>\n",
       "<div>\n",
       "<span class=\"greyText smallText uitext\">\n",
       "<span class=\"minirating\"><span class=\"stars staticStars notranslate\"><span class=\"staticStar p10\" size=\"12x12\"></span><span class=\"staticStar p10\" size=\"12x12\"></span><span class=\"staticStar p10\" size=\"12x12\"></span><span class=\"staticStar p10\" size=\"12x12\"></span><span class=\"staticStar p3\" size=\"12x12\"></span></span> 4.31 avg rating — 1,742,262 ratings</span>\n",
       "</span>\n",
       "</div>\n",
       "<div style=\"margin-top: 5px\">\n",
       "<span class=\"smallText uitext\">\n",
       "<a href=\"#\" onclick=\"Lightbox.showBoxByID('score_explanation', 300); return false;\">score: 12,706</a>,\n",
       "              <span class=\"greyText\">and</span>\n",
       "<a href=\"#\" id=\"loading_link_152737\" onclick=\"new Ajax.Request('/list/list_book/4645304', {asynchronous:true, evalScripts:true, onFailure:function(request){Element.hide('loading_anim_152737');$('loading_link_152737').innerHTML = '&lt;span class=&quot;error&quot;&gt;ERROR&lt;/span&gt;try again';$('loading_link_152737').show();;Element.hide('loading_anim_152737');}, onLoading:function(request){;Element.show('loading_anim_152737');Element.hide('loading_link_152737')}, onSuccess:function(request){Element.hide('loading_anim_152737');Element.show('loading_link_152737');}, parameters:'authenticity_token=' + encodeURIComponent('xu0dGHG3qvcfJFNl1LeGqx3ryx8b/CupsmxMgPjI3x9BZXtf3FsUTONlrm7QeLJJeH0mb9RW5wj9qlEbKwGyNg==')}); return false;\">128 people voted</a><img alt=\"Loading trans\" class=\"loading\" id=\"loading_anim_152737\" src=\"https://s.gr-assets.com/assets/loading-trans-ced157046184c3bc7c180ffbfc6825a4.gif\" style=\"display:none\"/>\n",
       "               \n",
       "              \n",
       "            </span>\n",
       "</div>\n",
       "</br></td>"
      ]
     },
     "execution_count": 10,
     "metadata": {},
     "output_type": "execute_result"
    }
   ],
   "source": [
    "book1 = tds[0]\n",
    "book1"
   ]
  },
  {
   "cell_type": "code",
   "execution_count": null,
   "metadata": {},
   "outputs": [],
   "source": [
    "< td valign = \"top\"\n",
    "width = \"100%\" >\n",
    "    <\n",
    "    a class = \"bookTitle\"\n",
    "href = \"/book/show/18143977-all-the-light-we-cannot-see\"\n",
    "itemprop = \"url\" >\n",
    "    <\n",
    "    span aria - level = \"4\"\n",
    "itemprop = \"name\"\n",
    "role = \"heading\" > All the Light We Cannot See < /span> <\n",
    "    /a> <br> <\n",
    "    span class = \"by\" > by < /span> <\n",
    "    span itemprop = \"author\"\n",
    "itemscope = \"\"\n",
    "itemtype = \"http://schema.org/Person\" >\n",
    "    <\n",
    "    div class = \"authorName__container\" >\n",
    "    <\n",
    "    a class = \"authorName\"\n",
    "href = \"https://www.goodreads.com/author/show/28186.Anthony_Doerr\"\n",
    "itemprop = \"url\" > < span itemprop = \"name\" > Anthony Doerr < /span></a > < span class = \"greyText\" > (Goodreads Author) < /span> <\n",
    "    /div> <\n",
    "    /span> <\n",
    "    br / >\n",
    "    <\n",
    "    div >\n",
    "    <\n",
    "    span class = \"greyText smallText uitext\" >\n",
    "    <\n",
    "    span class = \"minirating\" > < span class = \"stars staticStars notranslate\" > < span class = \"staticStar p10\"\n",
    "size = \"12x12\" > < /span><span class=\"staticStar p10\" size=\"12x12\"></span > < span class = \"staticStar p10\"\n",
    "size = \"12x12\" > < /span><span class=\"staticStar p10\" size=\"12x12\"></span > < span class = \"staticStar p3\"\n",
    "size = \"12x12\" > < /span></span > 4.31 avg rating— 1, 742, 262 ratings < /span> <\n",
    "    /span> <\n",
    "    /div> <\n",
    "    div style = \"margin-top: 5px\" >\n",
    "    <\n",
    "    span class = \"smallText uitext\" >\n",
    "    <\n",
    "    a href = \"#\"\n",
    "onclick = \"Lightbox.showBoxByID('score_explanation', 300); return false;\" > score: 12, 706 < /a>, <\n",
    "    span class = \"greyText\" > and < /span> <\n",
    "    a href = \"#\"\n",
    "id = \"loading_link_152737\"\n",
    "onclick = \"new Ajax.Request('/list/list_book/4645304', {asynchronous:true, evalScripts:true, onFailure:function(request){Element.hide('loading_anim_152737');$('loading_link_152737').innerHTML = '&lt;span class=&quot;error&quot;&gt;ERROR&lt;/span&gt;try again';$('loading_link_152737').show();;Element.hide('loading_anim_152737');}, onLoading:function(request){;Element.show('loading_anim_152737');Element.hide('loading_link_152737')}, onSuccess:function(request){Element.hide('loading_anim_152737');Element.show('loading_link_152737');}, parameters:'authenticity_token=' + encodeURIComponent('xu0dGHG3qvcfJFNl1LeGqx3ryx8b/CupsmxMgPjI3x9BZXtf3FsUTONlrm7QeLJJeH0mb9RW5wj9qlEbKwGyNg==')}); return false;\" > 128 people voted < /a><img alt=\"Loading trans\" class=\"loading\" id=\"loading_anim_152737\" src=\"https:/ / s.gr - assets.com / assets / loading - trans - ced157046184c3bc7c180ffbfc6825a4.gif \" style=\"\n",
    "display: none \"/>\n",
    "\n",
    "\n",
    "    <\n",
    "    /span> <\n",
    "    /div> <\n",
    "    /br></td >"
   ]
  },
  {
   "cell_type": "markdown",
   "metadata": {},
   "source": [
    "CODING LENGKAP"
   ]
  },
  {
   "cell_type": "code",
   "execution_count": 19,
   "metadata": {},
   "outputs": [
    {
     "name": "stdout",
     "output_type": "stream",
     "text": [
      "book_name: The Iron King (The Iron Fey, #1)\n",
      "author: Julie Kagawa\n",
      "rating: 3.88 avg rating — 214.514 ratings\n",
      "goodreads_score: 89\n"
     ]
    }
   ],
   "source": [
    "import bs4\n",
    "from urllib.request import urlopen as uReq\n",
    "from bs4 import BeautifulSoup as soup\n",
    "my_url = 'https://www.goodreads.com/list/show/83612.NY_Times_Fiction_Best_Sellers_2015'\n",
    "my_url\n",
    "# opening dan connection to website\n",
    "uClient = uReq(my_url)\n",
    "page_html = uClient.read()\n",
    "uClient.close()\n",
    "# html parsing\n",
    "page_soup = soup(page_html, \"html.parser\")\n",
    "# graps the product\n",
    "tds = page_soup.findAll(\"td\", {\"width\":\"100%\",\"valign\":\"top\"})\n",
    "file = \"databuku.csv\"\n",
    "header = \"title,author,rating,score \\n\"\n",
    "f = open(file, \"w\")\n",
    "f.write(header)\n",
    "for td in tds : \n",
    "    books = td.a.select(\"span\")\n",
    "    title = books[0].text\n",
    "    authors = td.div.select(\"a\")\n",
    "    author = authors[0].text\n",
    "    ratings = td.findAll(\"span\",{\"class\":\"greyText smallText uitext\"})\n",
    "    rating = ratings[0].text.strip().replace(\",\",\".\")\n",
    "    scores = td.findAll(\"div\",{\"style\":\"margin-top: 5px\"})\n",
    "    score = scores[0].span.a.text.strip().replace(\"score:\",\"\").replace(\",\",\".\").replace(\" \", \"\")\n",
    "print(\"book_name: \"+ title)\n",
    "print(\"author: \"+ author)\n",
    "print(\"rating: \"+ rating)\n",
    "print(\"goodreads_score: \"+ score)\n",
    "f.write(title.replace(\",\",\"\") + \", \" + author + \", \" + rating + \", \" + score +\"\\n\")\n",
    "f.close()"
   ]
  }
 ],
 "metadata": {
  "kernelspec": {
   "display_name": "BigDataAnalysis",
   "language": "python",
   "name": "python3"
  },
  "language_info": {
   "codemirror_mode": {
    "name": "ipython",
    "version": 3
   },
   "file_extension": ".py",
   "mimetype": "text/x-python",
   "name": "python",
   "nbconvert_exporter": "python",
   "pygments_lexer": "ipython3",
   "version": "3.12.5"
  }
 },
 "nbformat": 4,
 "nbformat_minor": 2
}
